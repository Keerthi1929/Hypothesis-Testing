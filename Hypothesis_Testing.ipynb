{
  "cells": [
    {
      "cell_type": "markdown",
      "metadata": {
        "id": "NS3Hqs1WkYS3"
      },
      "source": [
        "### Hypothesis Testing\n",
        "  Hypothesis testing is a statistical method that is used to make **statistical decisions** using experimental data.\n",
        "  * It is basically an assumption that we make about the populatiion parameter.\n",
        "  h0 --> Null hypothesis (What we belive generally)\n",
        "  h1 --> Alternative hypothesis ( what we want to prove)\n",
        "\n",
        "  In this test, we are checking whether the population mean is equal to 4000.\n",
        "\n",
        "**Null Hypothesis (H0):** μ = 4000  \n",
        "*(The population mean is equal to 4000)*\n",
        "\n",
        "**Alternative Hypothesis (H1):** μ ≠ 4000  \n",
        "*(The population mean is different from 4000)*\n",
        "\n",
        "This is a **two-tailed test**, since we are checking for any difference (not just greater or smaller)."
      ]
    },
    {
      "cell_type": "code",
      "execution_count": null,
      "metadata": {
        "colab": {
          "base_uri": "https://localhost:8080/"
        },
        "id": "eFKLqVB0lEcu",
        "outputId": "19ea5c05-4c34-421e-fa4f-af7428a4a5a4"
      },
      "outputs": [
        {
          "output_type": "stream",
          "name": "stdout",
          "text": [
            "The test statistic (t) is: -38.0\n"
          ]
        }
      ],
      "source": [
        "# Calculate the t Test Statistic:\n",
        "sample_mean = 3050\n",
        "n = 25\n",
        "populaton_mean = 1000 + 5 * 600\n",
        "std = 125\n",
        "\n",
        "# calculating  the t text statistic\n",
        "# t test is used to determine if there is a significant difference between the means of two groups\n",
        "# t = (sample_mean - populaton_mean) / (std / sqrt(n))\n",
        "from math import sqrt\n",
        "t = (sample_mean - populaton_mean) / (std / (sqrt(n)))\n",
        "\n",
        "print(f\"The test statistic (t) is: {t}\")\n"
      ]
    },
    {
      "cell_type": "code",
      "execution_count": null,
      "metadata": {
        "colab": {
          "base_uri": "https://localhost:8080/"
        },
        "id": "135360b0",
        "outputId": "90215428-f472-4f2e-8f33-b044ca18b0b8"
      },
      "outputs": [
        {
          "output_type": "stream",
          "name": "stdout",
          "text": [
            "The critical value for a two-tailed test with alpha = 0.05 is: ±1.96\n"
          ]
        }
      ],
      "source": [
        "# Determine the Critical Value\n",
        "from scipy.stats import norm\n",
        "\n",
        "alpha = 0.05\n",
        "\n",
        "# the t test is -38.0 so it's greater than the critical value\n",
        "# For a two-tailed test, we find the critical value at alpha/2\n",
        "# The critical value is the z-score that corresponds to the tail probabilities\n",
        "# For a two-tailed test, we use the percent point function (ppf)\n",
        "critical_value = norm.ppf(1 - alpha / 2)\n",
        "\n",
        "print(f\"The critical value for a two-tailed test with alpha = {alpha} is: \\u00B1{critical_value:.2f}\")"
      ]
    },
    {
      "cell_type": "markdown",
      "metadata": {
        "id": "9rSUWb3Mody8"
      },
      "source": [
        "### Conclusion\n",
        "* Based on a sample of 25 restaurants with a mean weekly operating cost of Rs. 3,050, compared to the cost model's predicted mean of Rs. 4,000, a t-test statistic of -38.0 was calculated.\n",
        "* If the absolute value of your t-test statistic (|-38.0| = 38.0) is greater than the critical value, you would reject the null hypothesis.\n",
        "* This suggests that there is a statistically significant difference between your sample mean and the population mean.\n",
        "* Using a 5% significance level and a critical value is +- 1.96, the null hypothesis was rejected.\n",
        "* This indicates a significant difference in costs.\n",
        "\n",
        "However, because the sample mean is lower than the model's mean, this evidence shows the restaurant owners' claim that weekly operating costs are higher than the model suggests, instead, the data indicates they are likely lower."
      ]
    },
    {
      "cell_type": "code",
      "execution_count": null,
      "metadata": {
        "id": "Gn12OUBipT6O"
      },
      "outputs": [],
      "source": []
    }
  ],
  "metadata": {
    "colab": {
      "provenance": []
    },
    "kernelspec": {
      "display_name": "Python 3",
      "name": "python3"
    },
    "language_info": {
      "name": "python"
    }
  },
  "nbformat": 4,
  "nbformat_minor": 0
}